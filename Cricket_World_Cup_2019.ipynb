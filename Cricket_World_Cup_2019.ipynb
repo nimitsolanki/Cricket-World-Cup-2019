{
  "nbformat": 4,
  "nbformat_minor": 0,
  "metadata": {
    "colab": {
      "name": "Cricket World Cup 2019.ipynb",
      "version": "0.3.2",
      "provenance": [],
      "include_colab_link": true
    },
    "kernelspec": {
      "name": "python3",
      "display_name": "Python 3"
    },
    "accelerator": "GPU"
  },
  "cells": [
    {
      "cell_type": "markdown",
      "metadata": {
        "id": "view-in-github",
        "colab_type": "text"
      },
      "source": [
        "<a href=\"https://colab.research.google.com/github/nimitsolanki/Cricket-World-Cup-2019/blob/master/Cricket_World_Cup_2019.ipynb\" target=\"_parent\"><img src=\"https://colab.research.google.com/assets/colab-badge.svg\" alt=\"Open In Colab\"/></a>"
      ]
    },
    {
      "cell_type": "markdown",
      "metadata": {
        "id": "a4GuQITThGrn",
        "colab_type": "text"
      },
      "source": [
        "**CRICKET WORLD CUP 2019 - ICC CWC 2019**\n",
        "\n",
        "Venue : ENGLAND\n",
        "\n",
        "Total Teams : 10\n",
        "\n",
        "\n",
        "Dataset - ODI_DATASET.csv\n",
        "\n",
        "Starting from Jan-2013 to mid May-2019 - all the ODI results are included in this dataset\n",
        "\n",
        "\n"
      ]
    },
    {
      "cell_type": "code",
      "metadata": {
        "id": "o0_Ll3Q4c-pF",
        "colab_type": "code",
        "colab": {}
      },
      "source": [
        "import warnings\n",
        "warnings.filterwarnings('ignore')\n",
        "\n",
        "# linear algebra\n",
        "import numpy as np \n",
        "\n",
        "# data processing\n",
        "import pandas as pd \n",
        "import matplotlib.pyplot as plt\n",
        "import seaborn as sns\n"
      ],
      "execution_count": 0,
      "outputs": []
    },
    {
      "cell_type": "code",
      "metadata": {
        "id": "m4HbipkidXfA",
        "colab_type": "code",
        "colab": {}
      },
      "source": [
        "# ODI dataset from Jan-2013 to May-2019\n",
        "# As I have used Google Colab to perform this notebook - hence added github raw URL to fetch the dataset\n",
        "\n",
        "ODI_Data = pd.read_csv('https://raw.githubusercontent.com/nimitsolanki/Cricket-World-Cup-2019/master/data/ODI_DATASET.csv')"
      ],
      "execution_count": 0,
      "outputs": []
    },
    {
      "cell_type": "code",
      "metadata": {
        "id": "iqsp_GBfdp8V",
        "colab_type": "code",
        "colab": {}
      },
      "source": [
        "# Scores_ID\n",
        "\n",
        "ODI_Data[\"Scores_ID\"] = ODI_Data[\"Unnamed: 0\"]\n",
        "ODI_Data.drop(columns=\"Unnamed: 0\",inplace=True)"
      ],
      "execution_count": 0,
      "outputs": []
    },
    {
      "cell_type": "code",
      "metadata": {
        "id": "mOAMYy3mdtbn",
        "colab_type": "code",
        "colab": {}
      },
      "source": [
        "# CWC-2019 pitches\n",
        "\n",
        "WC_venue_pitches = [\"The Oval, London\",\"Trent Bridge, Nottingham\",\"Sophia Gardens, Cardiff\",\"County Ground, Bristol\",\"Rose Bowl, Southampton\",\"County Ground, Taunton\",\"Old Trafford, Manchester\",\"Edgbaston, Birmingham\",\"Headingley, Leeds\",\"Lord's, London\",\"Riverside Ground, Chester-le-Street\"]\n",
        "\n",
        "#Total Grounds\n",
        "WC_Ground_Stats = []\n",
        "ODI_Grounds = ODI_Data.Ground\n",
        "for i in ODI_Grounds:\n",
        "    for j in WC_venue_pitches:\n",
        "        if i in j:\n",
        "          WC_Ground_Stats.append((i,j))   "
      ],
      "execution_count": 0,
      "outputs": []
    },
    {
      "cell_type": "code",
      "metadata": {
        "id": "WAc3I1HDd8W8",
        "colab_type": "code",
        "colab": {
          "base_uri": "https://localhost:8080/",
          "height": 187
        },
        "outputId": "823e1929-f02b-4747-9ba4-f8d12f59b3c4"
      },
      "source": [
        "# Listing ground names\n",
        "\n",
        "Ground_names = dict(set(WC_Ground_Stats))\n",
        "def Full_Ground_names(value):\n",
        "    return Ground_names[value]\n",
        "Ground_names"
      ],
      "execution_count": 5,
      "outputs": [
        {
          "output_type": "execute_result",
          "data": {
            "text/plain": [
              "{'Birmingham': 'Edgbaston, Birmingham',\n",
              " 'Bristol': 'County Ground, Bristol',\n",
              " 'Cardiff': 'Sophia Gardens, Cardiff',\n",
              " 'Chester-le-Street': 'Riverside Ground, Chester-le-Street',\n",
              " 'Leeds': 'Headingley, Leeds',\n",
              " \"Lord's\": \"Lord's, London\",\n",
              " 'Manchester': 'Old Trafford, Manchester',\n",
              " 'Nottingham': 'Trent Bridge, Nottingham',\n",
              " 'Southampton': 'Rose Bowl, Southampton',\n",
              " 'The Oval': 'The Oval, London'}"
            ]
          },
          "metadata": {
            "tags": []
          },
          "execution_count": 5
        }
      ]
    },
    {
      "cell_type": "code",
      "metadata": {
        "id": "J0IkLYqDeA5l",
        "colab_type": "code",
        "colab": {
          "base_uri": "https://localhost:8080/",
          "height": 204
        },
        "outputId": "5718f266-40ae-422f-bcf6-79c6cde72587"
      },
      "source": [
        "# Matching ODI's data with respect to the above listed grounds\n",
        "\n",
        "WC_Grounds_History = ODI_Data[ODI_Data.Ground.isin([Ground[0] for Ground in WC_Ground_Stats])]\n",
        "WC_Grounds_History[\"Ground\"] = WC_Grounds_History.Ground.apply(Full_Ground_names)\n",
        "WC_Grounds_History.head()"
      ],
      "execution_count": 6,
      "outputs": [
        {
          "output_type": "execute_result",
          "data": {
            "text/html": [
              "<div>\n",
              "<style scoped>\n",
              "    .dataframe tbody tr th:only-of-type {\n",
              "        vertical-align: middle;\n",
              "    }\n",
              "\n",
              "    .dataframe tbody tr th {\n",
              "        vertical-align: top;\n",
              "    }\n",
              "\n",
              "    .dataframe thead th {\n",
              "        text-align: right;\n",
              "    }\n",
              "</style>\n",
              "<table border=\"1\" class=\"dataframe\">\n",
              "  <thead>\n",
              "    <tr style=\"text-align: right;\">\n",
              "      <th></th>\n",
              "      <th>Score</th>\n",
              "      <th>Overs</th>\n",
              "      <th>RPO</th>\n",
              "      <th>Target</th>\n",
              "      <th>Inns</th>\n",
              "      <th>Result</th>\n",
              "      <th>Opposition</th>\n",
              "      <th>Ground</th>\n",
              "      <th>Start Date</th>\n",
              "      <th>Match_ID</th>\n",
              "      <th>Country</th>\n",
              "      <th>Country_ID</th>\n",
              "      <th>Scores_ID</th>\n",
              "    </tr>\n",
              "  </thead>\n",
              "  <tbody>\n",
              "    <tr>\n",
              "      <th>74</th>\n",
              "      <td>231/5</td>\n",
              "      <td>46.5</td>\n",
              "      <td>4.93</td>\n",
              "      <td>228.0</td>\n",
              "      <td>2</td>\n",
              "      <td>won</td>\n",
              "      <td>v England</td>\n",
              "      <td>Lord's, London</td>\n",
              "      <td>31 May 2013</td>\n",
              "      <td>ODI # 3360</td>\n",
              "      <td>Newzealad</td>\n",
              "      <td>5</td>\n",
              "      <td>557</td>\n",
              "    </tr>\n",
              "    <tr>\n",
              "      <th>75</th>\n",
              "      <td>227/9</td>\n",
              "      <td>50.0</td>\n",
              "      <td>4.54</td>\n",
              "      <td>NaN</td>\n",
              "      <td>1</td>\n",
              "      <td>lost</td>\n",
              "      <td>v New Zealand</td>\n",
              "      <td>Lord's, London</td>\n",
              "      <td>31 May 2013</td>\n",
              "      <td>ODI # 3360</td>\n",
              "      <td>England</td>\n",
              "      <td>1</td>\n",
              "      <td>844</td>\n",
              "    </tr>\n",
              "    <tr>\n",
              "      <th>76</th>\n",
              "      <td>359/3</td>\n",
              "      <td>50.0</td>\n",
              "      <td>7.18</td>\n",
              "      <td>NaN</td>\n",
              "      <td>1</td>\n",
              "      <td>won</td>\n",
              "      <td>v England</td>\n",
              "      <td>Rose Bowl, Southampton</td>\n",
              "      <td>2 Jun 2013</td>\n",
              "      <td>ODI # 3361</td>\n",
              "      <td>Newzealad</td>\n",
              "      <td>5</td>\n",
              "      <td>558</td>\n",
              "    </tr>\n",
              "    <tr>\n",
              "      <th>77</th>\n",
              "      <td>273</td>\n",
              "      <td>44.1</td>\n",
              "      <td>6.18</td>\n",
              "      <td>360.0</td>\n",
              "      <td>2</td>\n",
              "      <td>lost</td>\n",
              "      <td>v New Zealand</td>\n",
              "      <td>Rose Bowl, Southampton</td>\n",
              "      <td>2 Jun 2013</td>\n",
              "      <td>ODI # 3361</td>\n",
              "      <td>England</td>\n",
              "      <td>1</td>\n",
              "      <td>845</td>\n",
              "    </tr>\n",
              "    <tr>\n",
              "      <th>78</th>\n",
              "      <td>253</td>\n",
              "      <td>46.3</td>\n",
              "      <td>5.44</td>\n",
              "      <td>288.0</td>\n",
              "      <td>2</td>\n",
              "      <td>lost</td>\n",
              "      <td>v England</td>\n",
              "      <td>Trent Bridge, Nottingham</td>\n",
              "      <td>5 Jun 2013</td>\n",
              "      <td>ODI # 3362</td>\n",
              "      <td>Newzealad</td>\n",
              "      <td>5</td>\n",
              "      <td>559</td>\n",
              "    </tr>\n",
              "  </tbody>\n",
              "</table>\n",
              "</div>"
            ],
            "text/plain": [
              "    Score  Overs   RPO  Target  ...    Match_ID    Country Country_ID Scores_ID\n",
              "74  231/5   46.5  4.93   228.0  ...  ODI # 3360  Newzealad          5       557\n",
              "75  227/9   50.0  4.54     NaN  ...  ODI # 3360    England          1       844\n",
              "76  359/3   50.0  7.18     NaN  ...  ODI # 3361  Newzealad          5       558\n",
              "77    273   44.1  6.18   360.0  ...  ODI # 3361    England          1       845\n",
              "78    253   46.3  5.44   288.0  ...  ODI # 3362  Newzealad          5       559\n",
              "\n",
              "[5 rows x 13 columns]"
            ]
          },
          "metadata": {
            "tags": []
          },
          "execution_count": 6
        }
      ]
    },
    {
      "cell_type": "code",
      "metadata": {
        "id": "1tO53M8PeUB_",
        "colab_type": "code",
        "colab": {
          "base_uri": "https://localhost:8080/",
          "height": 576
        },
        "outputId": "f5e101ba-4eb7-4114-a46e-4b7c80acfb22"
      },
      "source": [
        "# Finding the World cup team's played on these grounds\n",
        "\n",
        "Team_Matches = WC_Grounds_History.Country.value_counts().reset_index()\n",
        "plt.figure(figsize=(15,8))\n",
        "sns.barplot(x = \"index\", y = \"Country\", data = Team_Matches).set_title(\"Total Matches Played by each Country\")\n",
        "plt.xlabel(\"Country\")\n",
        "plt.ylabel(\"Matches Played\")\n",
        "plt.xticks(rotation = 60)\n"
      ],
      "execution_count": 7,
      "outputs": [
        {
          "output_type": "execute_result",
          "data": {
            "text/plain": [
              "(array([0, 1, 2, 3, 4, 5, 6, 7, 8]), <a list of 9 Text xticklabel objects>)"
            ]
          },
          "metadata": {
            "tags": []
          },
          "execution_count": 7
        },
        {
          "output_type": "display_data",
          "data": {
            "image/png": "[encoded data removed]",
            "text/plain": [
              "<Figure size 1080x576 with 1 Axes>"
            ]
          },
          "metadata": {
            "tags": []
          }
        }
      ]
    },
    {
      "cell_type": "code",
      "metadata": {
        "id": "RHDaJzGdfBv0",
        "colab_type": "code",
        "colab": {
          "base_uri": "https://localhost:8080/",
          "height": 102
        },
        "outputId": "74984497-f2bb-4af6-efa9-e9ca913d8d22"
      },
      "source": [
        "# Team wise Winning Percentage in England Pitches after removing the currupt data result\n",
        "\n",
        "WC_Grounds_History = WC_Grounds_History[~WC_Grounds_History.Result.isin([\"-\"])]\n",
        "WC_Grounds_History.Result.value_counts()"
      ],
      "execution_count": 8,
      "outputs": [
        {
          "output_type": "execute_result",
          "data": {
            "text/plain": [
              "won     79\n",
              "lost    77\n",
              "n/r     14\n",
              "tied     4\n",
              "Name: Result, dtype: int64"
            ]
          },
          "metadata": {
            "tags": []
          },
          "execution_count": 8
        }
      ]
    },
    {
      "cell_type": "code",
      "metadata": {
        "id": "rdCUT313fE1p",
        "colab_type": "code",
        "colab": {
          "base_uri": "https://localhost:8080/",
          "height": 204
        },
        "outputId": "19e89e71-fdf7-42b4-e5e5-154d7f4ebb2e"
      },
      "source": [
        "# Country results in percentage \n",
        "\n",
        "winnings = WC_Grounds_History[[\"Country\",\"Result\"]]\n",
        "winnings[\"count\"] = 1\n",
        "Ground_Results_Per_Team = winnings.groupby([\"Country\",\"Result\"]).aggregate([\"sum\"])\n",
        "Ground_Results_Per_Team = Ground_Results_Per_Team.groupby(level=0).apply(lambda x:100 * x / float(x.sum())).reset_index()\n",
        "Ground_Results_Per_Team.columns = [\"Country\",\"Result\",\"Count\"]\n",
        "Ground_Results_Per_Team.head()"
      ],
      "execution_count": 9,
      "outputs": [
        {
          "output_type": "execute_result",
          "data": {
            "text/html": [
              "<div>\n",
              "<style scoped>\n",
              "    .dataframe tbody tr th:only-of-type {\n",
              "        vertical-align: middle;\n",
              "    }\n",
              "\n",
              "    .dataframe tbody tr th {\n",
              "        vertical-align: top;\n",
              "    }\n",
              "\n",
              "    .dataframe thead th {\n",
              "        text-align: right;\n",
              "    }\n",
              "</style>\n",
              "<table border=\"1\" class=\"dataframe\">\n",
              "  <thead>\n",
              "    <tr style=\"text-align: right;\">\n",
              "      <th></th>\n",
              "      <th>Country</th>\n",
              "      <th>Result</th>\n",
              "      <th>Count</th>\n",
              "    </tr>\n",
              "  </thead>\n",
              "  <tbody>\n",
              "    <tr>\n",
              "      <th>0</th>\n",
              "      <td>Australia</td>\n",
              "      <td>lost</td>\n",
              "      <td>55.0</td>\n",
              "    </tr>\n",
              "    <tr>\n",
              "      <th>1</th>\n",
              "      <td>Australia</td>\n",
              "      <td>n/r</td>\n",
              "      <td>20.0</td>\n",
              "    </tr>\n",
              "    <tr>\n",
              "      <th>2</th>\n",
              "      <td>Australia</td>\n",
              "      <td>won</td>\n",
              "      <td>25.0</td>\n",
              "    </tr>\n",
              "    <tr>\n",
              "      <th>3</th>\n",
              "      <td>Bangladesh</td>\n",
              "      <td>lost</td>\n",
              "      <td>50.0</td>\n",
              "    </tr>\n",
              "    <tr>\n",
              "      <th>4</th>\n",
              "      <td>Bangladesh</td>\n",
              "      <td>n/r</td>\n",
              "      <td>25.0</td>\n",
              "    </tr>\n",
              "  </tbody>\n",
              "</table>\n",
              "</div>"
            ],
            "text/plain": [
              "      Country Result  Count\n",
              "0   Australia   lost   55.0\n",
              "1   Australia    n/r   20.0\n",
              "2   Australia    won   25.0\n",
              "3  Bangladesh   lost   50.0\n",
              "4  Bangladesh    n/r   25.0"
            ]
          },
          "metadata": {
            "tags": []
          },
          "execution_count": 9
        }
      ]
    },
    {
      "cell_type": "code",
      "metadata": {
        "id": "7xvKqHeNfHch",
        "colab_type": "code",
        "colab": {
          "base_uri": "https://localhost:8080/",
          "height": 576
        },
        "outputId": "e4d202ba-017b-4160-83da-cebab10e268a"
      },
      "source": [
        "# Plotting Results in percentage\n",
        "\n",
        "plt.figure(figsize=(15,8))\n",
        "sns.barplot(x = \"Country\", y = \"Count\", hue = \"Result\", data = Ground_Results_Per_Team)\n",
        "plt.ylabel(\"Percentage\")\n",
        "plt.title(\"Country - Results\")\n",
        "plt.xticks(rotation = 60)"
      ],
      "execution_count": 10,
      "outputs": [
        {
          "output_type": "execute_result",
          "data": {
            "text/plain": [
              "(array([0, 1, 2, 3, 4, 5, 6, 7, 8]), <a list of 9 Text xticklabel objects>)"
            ]
          },
          "metadata": {
            "tags": []
          },
          "execution_count": 10
        },
        {
          "output_type": "display_data",
          "data": {
            "image/png": "[encoded data removed]",
            "text/plain": [
              "<Figure size 1080x576 with 1 Axes>"
            ]
          },
          "metadata": {
            "tags": []
          }
        }
      ]
    },
    {
      "cell_type": "markdown",
      "metadata": {
        "id": "VHm-Wc0pfbue",
        "colab_type": "text"
      },
      "source": [
        "It's clear that India and England have highest Green bars -  highest winning percentage.\n",
        "\n",
        "Let's see what happens when the Top Two Teams face?"
      ]
    },
    {
      "cell_type": "code",
      "metadata": {
        "id": "1WZsj6pyffBn",
        "colab_type": "code",
        "colab": {
          "base_uri": "https://localhost:8080/",
          "height": 346
        },
        "outputId": "d88785e4-d8b1-410e-c5da-54e2912d9ca4"
      },
      "source": [
        "# It's WC final time - India Vs England\n",
        "\n",
        "India_vs_England = WC_Grounds_History[WC_Grounds_History.Country == \"India\"]\\\n",
        "[WC_Grounds_History.Opposition.str.contains(\"England\")]\n",
        "India_vs_England = India_vs_England.Result.value_counts().reset_index()\n",
        "sns.barplot(x = \"index\", y = \"Result\", data = India_vs_England).set_title(\"India against England\")\n",
        "plt.xlabel(\"India\")"
      ],
      "execution_count": 11,
      "outputs": [
        {
          "output_type": "stream",
          "text": [
            "/usr/local/lib/python3.6/dist-packages/ipykernel_launcher.py:2: UserWarning: Boolean Series key will be reindexed to match DataFrame index.\n",
            "  \n"
          ],
          "name": "stderr"
        },
        {
          "output_type": "execute_result",
          "data": {
            "text/plain": [
              "Text(0.5, 0, 'India')"
            ]
          },
          "metadata": {
            "tags": []
          },
          "execution_count": 11
        },
        {
          "output_type": "display_data",
          "data": {
            "image/png": "[encoded data removed]",
            "text/plain": [
              "<Figure size 432x288 with 1 Axes>"
            ]
          },
          "metadata": {
            "tags": []
          }
        }
      ]
    },
    {
      "cell_type": "markdown",
      "metadata": {
        "id": "jNfnoCDXkCnz",
        "colab_type": "text"
      },
      "source": [
        "**Prediction : India will win ICC Cricket World Cup 2019**"
      ]
    }
  ]
}